{
 "cells": [
  {
   "cell_type": "code",
   "execution_count": 1,
   "metadata": {},
   "outputs": [],
   "source": [
    "import numpy as np\n",
    "import json\n",
    "import scipy.sparse as sparse\n",
    "import matplotlib.pylab as plt"
   ]
  },
  {
   "cell_type": "code",
   "execution_count": 2,
   "metadata": {},
   "outputs": [],
   "source": [
    "# Read DOF Map\n",
    "def getDOFMap(fname):\n",
    "    with open(fname, 'r') as dof_file:\n",
    "      dof_data = json.load(dof_file)\n",
    "\n",
    "#     print(json.dumps(dof_data, indent = 4))\n",
    "#     print(json.dumps(dof_data[\"vars\"][0], indent = 4))\n",
    "\n",
    "    var_num = len(dof_data[\"vars\"])\n",
    "    dof_num = dof_data[\"ndof\"]\n",
    "\n",
    "    # Save dofs in DOFs: var_num * dof_per_var\n",
    "    DOFs = []\n",
    "    for var in dof_data[\"vars\"]:\n",
    "        DOF_list = []\n",
    "        for dm in var[\"subdomains\"]:\n",
    "            id = dm[\"id\"]\n",
    "            dofs = dm[\"dofs\"]\n",
    "            DOF_list += dofs\n",
    "        DOFs.append(DOF_list)\n",
    "    return DOFs, dof_num"
   ]
  },
  {
   "cell_type": "code",
   "execution_count": 3,
   "metadata": {},
   "outputs": [],
   "source": [
    "# Get DOF list for variable name \"Var\" and subdomain \"ID\"\n",
    "def getDOFMapVarID(fname, Var, ID):\n",
    "    with open(fname, 'r') as dof_file:\n",
    "      dof_data = json.load(dof_file)\n",
    "    for var in dof_data[\"vars\"]:\n",
    "        if Var == var[\"name\"]:\n",
    "            for dm in var[\"subdomains\"]:\n",
    "                if ID == dm[\"id\"]:\n",
    "                    return dm[\"dofs\"]"
   ]
  },
  {
   "cell_type": "code",
   "execution_count": 4,
   "metadata": {},
   "outputs": [],
   "source": [
    "# Read Matrix \n",
    "def getJacobianMatrix(fname, tol):\n",
    "    data = open(fname, 'r')\n",
    "    if data.mode == 'r':\n",
    "        lines = data.readlines()\n",
    "        lin_num = 0\n",
    "        # Matrix size\n",
    "        row_num = 0\n",
    "        col_num = 0\n",
    "        # Total nonzeros\n",
    "        nonzero_num = 0\n",
    "        # Row and Col indices\n",
    "        row_ind = []\n",
    "        col_ind = []\n",
    "        vals = []\n",
    "        for line in lines:\n",
    "            lin_num = lin_num +1\n",
    "            if lin_num == 3: # get matrix size\n",
    "                tmp = [int(i) for i in line.split() if i.isdigit()] \n",
    "                row_num = tmp[0]\n",
    "                col_num = tmp[1]\n",
    "            if lin_num == 4: # get number of nonzeros\n",
    "                tmp = [int(i) for i in line.split() if i.isdigit()]\n",
    "                nonzero_num = tmp[0]\n",
    "            if lin_num > 6 and lin_num - nonzero_num< 7: # get each nonzero entry\n",
    "                tmp = list( map( float,  filter( None  , [ x for x in line.strip().split(' ') ] )) )\n",
    "                if abs(tmp[2])> tol:\n",
    "                    row_ind.append(int(tmp[0]))\n",
    "                    col_ind.append(int(tmp[1]))\n",
    "                    vals.append(tmp[2])\n",
    "                    #print([idx, idy, val])\n",
    "#     print(len(vals))            \n",
    "    MAT = sparse.coo_matrix((vals, (row_ind, col_ind)))\n",
    "    return MAT, len(vals)\n",
    "\n",
    "# print(MAT.tocsc())\n",
    "# visualize the sparse matrix with Spy\n",
    "# plt.spy(MAT, markersize=1)"
   ]
  },
  {
   "cell_type": "code",
   "execution_count": 5,
   "metadata": {},
   "outputs": [],
   "source": [
    "def coo_submatrix_pull(matr, rows, cols):\n",
    "    \"\"\"\n",
    "    Pulls out an arbitrary i.e. non-contiguous submatrix out of\n",
    "    a sparse.coo_matrix. \n",
    "    \"\"\"\n",
    "    if type(matr) != sparse.coo_matrix:\n",
    "        raise TypeError('Matrix must be sparse COOrdinate format')\n",
    "    \n",
    "    gr = -1 * np.ones(matr.shape[0])\n",
    "    gc = -1 * np.ones(matr.shape[1])\n",
    "    \n",
    "    lr = len(rows)\n",
    "    lc = len(cols)\n",
    "    \n",
    "    ar = np.arange(0, lr)\n",
    "    ac = np.arange(0, lc)\n",
    "    gr[rows[ar]] = ar\n",
    "    gc[cols[ac]] = ac\n",
    "    mrow = matr.row\n",
    "    mcol = matr.col\n",
    "    newelem = (gr[mrow] > -1) & (gc[mcol] > -1)\n",
    "    newrows = mrow[newelem]\n",
    "    newcols = mcol[newelem]\n",
    "    return sparse.coo_matrix((matr.data[newelem], np.array([gr[newrows], gc[newcols]])),(lr, lc))"
   ]
  },
  {
   "cell_type": "code",
   "execution_count": 8,
   "metadata": {},
   "outputs": [
    {
     "name": "stdout",
     "output_type": "stream",
     "text": [
      "[[0, 2, 4, 6, 8, 10, 12, 14, 16], [1, 3, 5, 7, 9, 11, 13, 15, 17]]\n",
      "[0, 2, 4, 6, 8, 10, 12, 14, 16]\n",
      "[1, 3, 5, 7, 9, 11, 13, 15, 17]\n"
     ]
    }
   ],
   "source": [
    "refine = 0;\n",
    "dof_map, dof_num = getDOFMap('condense_test.json')\n",
    "mat, nonzeros = getJacobianMatrix('./matrix.m', 1e-10)\n",
    "\n",
    "u_dofs = getDOFMapVarID('condense_test.json', 'u', 1)\n",
    "v_dofs = getDOFMapVarID('condense_test.json', 'v', 1)\n",
    "\n",
    "print(dof_map)\n",
    "print(u_dofs)\n",
    "print(v_dofs)"
   ]
  },
  {
   "cell_type": "code",
   "execution_count": 12,
   "metadata": {},
   "outputs": [
    {
     "data": {
      "text/plain": [
       "<matplotlib.lines.Line2D at 0x7f84a014b210>"
      ]
     },
     "execution_count": 12,
     "metadata": {},
     "output_type": "execute_result"
    },
    {
     "data": {
      "image/png": "[encoded data removed]",
      "text/plain": [
       "<Figure size 432x288 with 1 Axes>"
      ]
     },
     "metadata": {
      "needs_background": "light"
     },
     "output_type": "display_data"
    }
   ],
   "source": [
    "fig = plt.figure()\n",
    "\n",
    "# plt.axhspan(np.array(dof_map[1])[0]+1, np.array(dof_map[1])[-1]+1, facecolor='r', alpha=0.3,zorder=-100)\n",
    "# plt.axvspan(np.array(dof_map[1])[0]+1, np.array(dof_map[1])[-1]+1, facecolor='r', alpha=0.3,zorder=-100)\n",
    "plt.axhspan(np.array(u_dofs)[0]+1, np.array(u_dofs)[-1]+1, facecolor='y', alpha=0.3,zorder=-100)\n",
    "plt.axvspan(np.array(u_dofs)[0]+1, np.array(u_dofs)[-1]+1, facecolor='y', alpha=0.3,zorder=-100)\n",
    "plt.spy(mat, markersize=1)\n",
    "\n",
    "# dual_submat = coo_submatrix_pull(dual_mat, np.array(dof_map[1])+1, np.array(u1_dofs)+1)\n",
    "# dual_submat_ur = coo_submatrix_pull(dual_mat, np.array(u1_dofs)+1, np.array(dof_map[1])+1)\n",
    "# plt.subplot(1, 2, 2)\n",
    "# plt.axhspan(np.array(dof_map[1])[0]+1, np.array(dof_map[1])[-1]+1, facecolor='r', alpha=0.3,zorder=-100)\n",
    "# plt.axvspan(np.array(dof_map[1])[0]+1, np.array(dof_map[1])[-1]+1, facecolor='r', alpha=0.3,zorder=-100)\n",
    "# plt.axhspan(np.array(u1_dofs)[0]+1, np.array(u1_dofs)[-1]+1, facecolor='y', alpha=0.3,zorder=-100)\n",
    "# plt.axvspan(np.array(u1_dofs)[0]+1, np.array(u1_dofs)[-1]+1, facecolor='y', alpha=0.3,zorder=-100)\n",
    "# plt.spy(dual_mat, markersize=1)\n",
    "# dual_nonzeros = np.count_nonzero(dual_submat.toarray())\n",
    "# dual_nonzeros_ur = np.count_nonzero(dual_submat_ur.toarray())\n",
    "\n",
    "# fname = '/Users/yushd/Desktop/Jacobian_nonconform_refine'+str(refine)+'.pdf'\n",
    "# plt.savefig(fname)\n"
   ]
  },
  {
   "cell_type": "code",
   "execution_count": null,
   "metadata": {},
   "outputs": [],
   "source": []
  }
 ],
 "metadata": {
  "kernelspec": {
   "display_name": "Python 3",
   "language": "python",
   "name": "python3"
  },
  "language_info": {
   "codemirror_mode": {
    "name": "ipython",
    "version": 3
   },
   "file_extension": ".py",
   "mimetype": "text/x-python",
   "name": "python",
   "nbconvert_exporter": "python",
   "pygments_lexer": "ipython3",
   "version": "3.7.4"
  }
 },
 "nbformat": 4,
 "nbformat_minor": 2
}
